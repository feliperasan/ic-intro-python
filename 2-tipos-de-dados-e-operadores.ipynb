{
 "cells": [
  {
   "cell_type": "markdown",
   "id": "c3138f14",
   "metadata": {},
   "source": [
    "## Tipos de Dados"
   ]
  },
  {
   "cell_type": "markdown",
   "id": "bf098e8e",
   "metadata": {},
   "source": [
    "### Númericos: int, float, complex\n",
    "\n",
    "Complexo: São números construídos na forma x + yj, onde x é a parte real e y é a parte imaginária."
   ]
  },
  {
   "cell_type": "code",
   "execution_count": 1,
   "id": "26798281",
   "metadata": {},
   "outputs": [
    {
     "name": "stdout",
     "output_type": "stream",
     "text": [
      "<class 'int'>\n"
     ]
    }
   ],
   "source": [
    "a = 5\n",
    "print(type(a))"
   ]
  },
  {
   "cell_type": "code",
   "execution_count": 2,
   "id": "abce4f07",
   "metadata": {},
   "outputs": [
    {
     "name": "stdout",
     "output_type": "stream",
     "text": [
      "<class 'float'>\n"
     ]
    }
   ],
   "source": [
    "a = 5.5\n",
    "print(type(a))"
   ]
  },
  {
   "cell_type": "code",
   "execution_count": 4,
   "id": "e804c64a",
   "metadata": {},
   "outputs": [
    {
     "name": "stdout",
     "output_type": "stream",
     "text": [
      "(11+6j)\n",
      "<class 'complex'>\n"
     ]
    }
   ],
   "source": [
    "a = 5 + 6j\n",
    "print(a + 6)\n",
    "print(type(a))"
   ]
  },
  {
   "cell_type": "markdown",
   "id": "80bc7f85",
   "metadata": {},
   "source": [
    "### String"
   ]
  },
  {
   "cell_type": "code",
   "execution_count": 5,
   "id": "9bc194b2",
   "metadata": {},
   "outputs": [
    {
     "name": "stdout",
     "output_type": "stream",
     "text": [
      "Esta é uma string <class 'str'>\n",
      "Esta é outra string <class 'str'>\n"
     ]
    }
   ],
   "source": [
    "s1 = 'Esta é uma string'\n",
    "s2 = \"Esta é outra string\"\n",
    "print(s1, type(s1))\n",
    "print(s2, type(s2))"
   ]
  },
  {
   "cell_type": "markdown",
   "id": "1aa38216",
   "metadata": {},
   "source": [
    "### Concatenando string"
   ]
  },
  {
   "cell_type": "code",
   "execution_count": 6,
   "id": "5927aed7",
   "metadata": {},
   "outputs": [
    {
     "name": "stdout",
     "output_type": "stream",
     "text": [
      "helloworld\n"
     ]
    }
   ],
   "source": [
    "s1 = 'hello'\n",
    "s2 = 'world'\n",
    "print(s1 + s2)"
   ]
  },
  {
   "cell_type": "markdown",
   "id": "7ab9abaf",
   "metadata": {},
   "source": [
    "### Separando Strings"
   ]
  },
  {
   "cell_type": "code",
   "execution_count": 9,
   "id": "137d20d9",
   "metadata": {},
   "outputs": [
    {
     "data": {
      "text/plain": [
       "['esta', 'é', 'uma', 'string', 'de', 'exemplo']"
      ]
     },
     "execution_count": 9,
     "metadata": {},
     "output_type": "execute_result"
    }
   ],
   "source": [
    "s1 = 'esta é uma string de exemplo'\n",
    "s1.split(' ')"
   ]
  },
  {
   "cell_type": "markdown",
   "id": "c0f420ae",
   "metadata": {},
   "source": [
    "### Substituindo valores em uma String\n",
    "\n",
    ".replace(alvo, substituto)"
   ]
  },
  {
   "cell_type": "code",
   "execution_count": 10,
   "id": "69696461",
   "metadata": {},
   "outputs": [
    {
     "data": {
      "text/plain": [
       "'esta_é_uma_string_de_exemplo'"
      ]
     },
     "execution_count": 10,
     "metadata": {},
     "output_type": "execute_result"
    }
   ],
   "source": [
    "s1 = 'esta é uma string de exemplo'\n",
    "s1.replace(' ', '_')"
   ]
  },
  {
   "cell_type": "markdown",
   "id": "bb02f798",
   "metadata": {},
   "source": [
    "### Convertendo Maiúscula para Minúscula\n",
    "upper()\n",
    "lower()"
   ]
  },
  {
   "cell_type": "code",
   "execution_count": 1,
   "id": "db7911ec",
   "metadata": {},
   "outputs": [
    {
     "name": "stdout",
     "output_type": "stream",
     "text": [
      "EsTa É uMa sTrinG dE ExEmPLo\n",
      "ESTA É UMA STRING DE EXEMPLO\n",
      "esta é uma string de exemplo\n"
     ]
    }
   ],
   "source": [
    "s1 = 'EsTa É uMa sTrinG dE ExEmPLo'\n",
    "print(s1)\n",
    "print(s1.upper())\n",
    "print(s1.lower())"
   ]
  },
  {
   "cell_type": "markdown",
   "id": "23901918",
   "metadata": {},
   "source": [
    "## Lista\n",
    "- Podem ser alteradas\n",
    "- Ter o mesmo tipo\n",
    "- Ter tipos diferentes"
   ]
  },
  {
   "cell_type": "code",
   "execution_count": 3,
   "id": "633dbeb3",
   "metadata": {},
   "outputs": [
    {
     "name": "stdout",
     "output_type": "stream",
     "text": [
      "[1, 2, 3, 'a'] <class 'list'>\n"
     ]
    }
   ],
   "source": [
    "l = [1, 2, 3, 'a']\n",
    "print(l, type(l))"
   ]
  },
  {
   "cell_type": "markdown",
   "id": "39cfe02d",
   "metadata": {},
   "source": [
    "### Acessando itens de uma lista"
   ]
  },
  {
   "cell_type": "code",
   "execution_count": 4,
   "id": "74f331f0",
   "metadata": {},
   "outputs": [
    {
     "name": "stdout",
     "output_type": "stream",
     "text": [
      "10\n",
      "10\n"
     ]
    }
   ],
   "source": [
    "l = [1, 2, 3, 4, 5, 6, 7, 8, 9, 10]\n",
    "print(l[9])\n",
    "print(l[-1])"
   ]
  },
  {
   "cell_type": "markdown",
   "id": "dfb2fe79",
   "metadata": {},
   "source": [
    "### Alterando item de uma lista\n",
    "*LISTAS SÃO MUTAVEIS*"
   ]
  },
  {
   "cell_type": "code",
   "execution_count": 5,
   "id": "9a9c25e1",
   "metadata": {},
   "outputs": [
    {
     "name": "stdout",
     "output_type": "stream",
     "text": [
      "[1, 2, 3, 'ABC', 5, 6, 7, 8, 9, 10]\n"
     ]
    }
   ],
   "source": [
    "l[3] = 'ABC'\n",
    "print(l)"
   ]
  },
  {
   "cell_type": "markdown",
   "id": "d847b6cb",
   "metadata": {},
   "source": [
    "### Adicionando itens em uma lista\n",
    "- .append(item)\n",
    "- insert(posicao, item)"
   ]
  },
  {
   "cell_type": "code",
   "execution_count": 6,
   "id": "ed8d0355",
   "metadata": {},
   "outputs": [
    {
     "data": {
      "text/plain": [
       "['cachorro', 'gato', 'pássaro', 'leão']"
      ]
     },
     "execution_count": 6,
     "metadata": {},
     "output_type": "execute_result"
    }
   ],
   "source": [
    "animais = ['cachorro', 'gato', 'pássaro']\n",
    "#append\n",
    "animais.append('leão')\n",
    "animais"
   ]
  },
  {
   "cell_type": "code",
   "execution_count": 7,
   "id": "f401dd8b",
   "metadata": {},
   "outputs": [
    {
     "data": {
      "text/plain": [
       "['cachorro', 'peixe', 'gato', 'pássaro', 'leão']"
      ]
     },
     "execution_count": 7,
     "metadata": {},
     "output_type": "execute_result"
    }
   ],
   "source": [
    "animais.insert(1, 'peixe')\n",
    "animais"
   ]
  },
  {
   "cell_type": "markdown",
   "id": "3f0a6a0b",
   "metadata": {},
   "source": [
    "### Contando itens de uma lista"
   ]
  },
  {
   "cell_type": "code",
   "execution_count": 8,
   "id": "a57196fe",
   "metadata": {},
   "outputs": [
    {
     "data": {
      "text/plain": [
       "5"
      ]
     },
     "execution_count": 8,
     "metadata": {},
     "output_type": "execute_result"
    }
   ],
   "source": [
    "len(animais)"
   ]
  }
 ],
 "metadata": {
  "kernelspec": {
   "display_name": "Python 3 (ipykernel)",
   "language": "python",
   "name": "python3"
  },
  "language_info": {
   "codemirror_mode": {
    "name": "ipython",
    "version": 3
   },
   "file_extension": ".py",
   "mimetype": "text/x-python",
   "name": "python",
   "nbconvert_exporter": "python",
   "pygments_lexer": "ipython3",
   "version": "3.9.13"
  }
 },
 "nbformat": 4,
 "nbformat_minor": 5
}
