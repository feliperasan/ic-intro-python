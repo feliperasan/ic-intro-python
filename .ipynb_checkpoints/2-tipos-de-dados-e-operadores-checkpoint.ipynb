{
 "cells": [
  {
   "cell_type": "markdown",
   "id": "c3138f14",
   "metadata": {},
   "source": [
    "## Tipos de Dados"
   ]
  },
  {
   "cell_type": "markdown",
   "id": "bf098e8e",
   "metadata": {},
   "source": [
    "### Númericos: int, float, complex\n",
    "\n",
    "Complexo: São números construídos na forma x + yj, onde x é a parte real e y é a parte imaginária."
   ]
  },
  {
   "cell_type": "code",
   "execution_count": 1,
   "id": "26798281",
   "metadata": {},
   "outputs": [
    {
     "name": "stdout",
     "output_type": "stream",
     "text": [
      "<class 'int'>\n"
     ]
    }
   ],
   "source": [
    "a = 5\n",
    "print(type(a))"
   ]
  },
  {
   "cell_type": "code",
   "execution_count": 2,
   "id": "abce4f07",
   "metadata": {},
   "outputs": [
    {
     "name": "stdout",
     "output_type": "stream",
     "text": [
      "<class 'float'>\n"
     ]
    }
   ],
   "source": [
    "a = 5.5\n",
    "print(type(a))"
   ]
  },
  {
   "cell_type": "code",
   "execution_count": 4,
   "id": "e804c64a",
   "metadata": {},
   "outputs": [
    {
     "name": "stdout",
     "output_type": "stream",
     "text": [
      "(11+6j)\n",
      "<class 'complex'>\n"
     ]
    }
   ],
   "source": [
    "a = 5 + 6j\n",
    "print(a + 6)\n",
    "print(type(a))"
   ]
  },
  {
   "cell_type": "markdown",
   "id": "80bc7f85",
   "metadata": {},
   "source": [
    "### String"
   ]
  },
  {
   "cell_type": "code",
   "execution_count": 5,
   "id": "9bc194b2",
   "metadata": {},
   "outputs": [
    {
     "name": "stdout",
     "output_type": "stream",
     "text": [
      "Esta é uma string <class 'str'>\n",
      "Esta é outra string <class 'str'>\n"
     ]
    }
   ],
   "source": [
    "s1 = 'Esta é uma string'\n",
    "s2 = \"Esta é outra string\"\n",
    "print(s1, type(s1))\n",
    "print(s2, type(s2))"
   ]
  },
  {
   "cell_type": "markdown",
   "id": "1aa38216",
   "metadata": {},
   "source": [
    "### Concatenando string"
   ]
  },
  {
   "cell_type": "code",
   "execution_count": 6,
   "id": "5927aed7",
   "metadata": {},
   "outputs": [
    {
     "name": "stdout",
     "output_type": "stream",
     "text": [
      "helloworld\n"
     ]
    }
   ],
   "source": [
    "s1 = 'hello'\n",
    "s2 = 'world'\n",
    "print(s1 + s2)"
   ]
  },
  {
   "cell_type": "markdown",
   "id": "7ab9abaf",
   "metadata": {},
   "source": [
    "### Separando Strings"
   ]
  },
  {
   "cell_type": "code",
   "execution_count": 9,
   "id": "137d20d9",
   "metadata": {},
   "outputs": [
    {
     "data": {
      "text/plain": [
       "['esta', 'é', 'uma', 'string', 'de', 'exemplo']"
      ]
     },
     "execution_count": 9,
     "metadata": {},
     "output_type": "execute_result"
    }
   ],
   "source": [
    "s1 = 'esta é uma string de exemplo'\n",
    "s1.split(' ')"
   ]
  },
  {
   "cell_type": "markdown",
   "id": "c0f420ae",
   "metadata": {},
   "source": [
    "### Substituindo valores em uma String\n",
    "\n",
    ".replace(alvo, substituto)"
   ]
  },
  {
   "cell_type": "code",
   "execution_count": 10,
   "id": "69696461",
   "metadata": {},
   "outputs": [
    {
     "data": {
      "text/plain": [
       "'esta_é_uma_string_de_exemplo'"
      ]
     },
     "execution_count": 10,
     "metadata": {},
     "output_type": "execute_result"
    }
   ],
   "source": [
    "s1 = 'esta é uma string de exemplo'\n",
    "s1.replace(' ', '_')"
   ]
  },
  {
   "cell_type": "markdown",
   "id": "bb02f798",
   "metadata": {},
   "source": [
    "### Convertendo Maiúscula para Minúscula\n",
    "upper()\n",
    "lower()"
   ]
  },
  {
   "cell_type": "code",
   "execution_count": 1,
   "id": "db7911ec",
   "metadata": {},
   "outputs": [
    {
     "name": "stdout",
     "output_type": "stream",
     "text": [
      "EsTa É uMa sTrinG dE ExEmPLo\n",
      "ESTA É UMA STRING DE EXEMPLO\n",
      "esta é uma string de exemplo\n"
     ]
    }
   ],
   "source": [
    "s1 = 'EsTa É uMa sTrinG dE ExEmPLo'\n",
    "print(s1)\n",
    "print(s1.upper())\n",
    "print(s1.lower())"
   ]
  },
  {
   "cell_type": "markdown",
   "id": "23901918",
   "metadata": {},
   "source": [
    "## Lista\n",
    "- Podem ser alteradas\n",
    "- Ter o mesmo tipo\n",
    "- Ter tipos diferentes"
   ]
  },
  {
   "cell_type": "code",
   "execution_count": 3,
   "id": "633dbeb3",
   "metadata": {},
   "outputs": [
    {
     "name": "stdout",
     "output_type": "stream",
     "text": [
      "[1, 2, 3, 'a'] <class 'list'>\n"
     ]
    }
   ],
   "source": [
    "l = [1, 2, 3, 'a']\n",
    "print(l, type(l))"
   ]
  },
  {
   "cell_type": "markdown",
   "id": "39cfe02d",
   "metadata": {},
   "source": [
    "### Acessando itens de uma lista"
   ]
  },
  {
   "cell_type": "code",
   "execution_count": 4,
   "id": "74f331f0",
   "metadata": {},
   "outputs": [
    {
     "name": "stdout",
     "output_type": "stream",
     "text": [
      "10\n",
      "10\n"
     ]
    }
   ],
   "source": [
    "l = [1, 2, 3, 4, 5, 6, 7, 8, 9, 10]\n",
    "print(l[9])\n",
    "print(l[-1])"
   ]
  },
  {
   "cell_type": "markdown",
   "id": "dfb2fe79",
   "metadata": {},
   "source": [
    "### Alterando item de uma lista\n",
    "*LISTAS SÃO MUTAVEIS*"
   ]
  },
  {
   "cell_type": "code",
   "execution_count": 5,
   "id": "9a9c25e1",
   "metadata": {},
   "outputs": [
    {
     "name": "stdout",
     "output_type": "stream",
     "text": [
      "[1, 2, 3, 'ABC', 5, 6, 7, 8, 9, 10]\n"
     ]
    }
   ],
   "source": [
    "l[3] = 'ABC'\n",
    "print(l)"
   ]
  },
  {
   "cell_type": "markdown",
   "id": "d847b6cb",
   "metadata": {},
   "source": [
    "### Adicionando itens em uma lista\n",
    "- .append(item)\n",
    "- insert(posicao, item)"
   ]
  },
  {
   "cell_type": "code",
   "execution_count": 2,
   "id": "ed8d0355",
   "metadata": {},
   "outputs": [
    {
     "data": {
      "text/plain": [
       "['cachorro', 'gato', 'pássaro', 'leão']"
      ]
     },
     "execution_count": 2,
     "metadata": {},
     "output_type": "execute_result"
    }
   ],
   "source": [
    "animais = ['cachorro', 'gato', 'pássaro']\n",
    "#append\n",
    "animais.append('leão')\n",
    "animais"
   ]
  },
  {
   "cell_type": "code",
   "execution_count": 3,
   "id": "f401dd8b",
   "metadata": {},
   "outputs": [
    {
     "data": {
      "text/plain": [
       "['cachorro', 'peixe', 'gato', 'pássaro', 'leão']"
      ]
     },
     "execution_count": 3,
     "metadata": {},
     "output_type": "execute_result"
    }
   ],
   "source": [
    "animais.insert(1, 'peixe')\n",
    "animais"
   ]
  },
  {
   "cell_type": "markdown",
   "id": "3f0a6a0b",
   "metadata": {},
   "source": [
    "### Contando itens de uma lista"
   ]
  },
  {
   "cell_type": "code",
   "execution_count": 4,
   "id": "a57196fe",
   "metadata": {},
   "outputs": [
    {
     "data": {
      "text/plain": [
       "5"
      ]
     },
     "execution_count": 4,
     "metadata": {},
     "output_type": "execute_result"
    }
   ],
   "source": [
    "len(animais)"
   ]
  },
  {
   "cell_type": "markdown",
   "id": "b6339530",
   "metadata": {},
   "source": [
    "### Removendo Itens de uma Lista\n",
    "\n",
    "remove()"
   ]
  },
  {
   "cell_type": "code",
   "execution_count": 5,
   "id": "6ffa75d4",
   "metadata": {},
   "outputs": [
    {
     "data": {
      "text/plain": [
       "['cachorro', 'gato', 'pássaro', 'leão']"
      ]
     },
     "execution_count": 5,
     "metadata": {},
     "output_type": "execute_result"
    }
   ],
   "source": [
    "animais.remove('peixe')\n",
    "animais"
   ]
  },
  {
   "cell_type": "markdown",
   "id": "62fa4ca4",
   "metadata": {},
   "source": [
    "### Fatiamento de Lista (slicing)\n",
    "lista[start:end:step]"
   ]
  },
  {
   "cell_type": "code",
   "execution_count": 9,
   "id": "d4535f8b",
   "metadata": {},
   "outputs": [
    {
     "name": "stdout",
     "output_type": "stream",
     "text": [
      "[0, 1, 2, 3, 4, 5, 6, 7, 8, 9, 10, 11, 12, 13, 14, 15, 16, 17, 18, 19]\n",
      "[10, 11, 12, 13, 14, 15, 16, 17, 18, 19]\n",
      "[0, 1, 2, 3, 4]\n",
      "[0, 2, 4, 6, 8]\n"
     ]
    }
   ],
   "source": [
    "lista = list(range(20))\n",
    "print(lista)\n",
    "print(lista[10:])\n",
    "print(lista[0:5])\n",
    "print(lista[0: 10: 2])"
   ]
  },
  {
   "cell_type": "markdown",
   "id": "75e0902a",
   "metadata": {},
   "source": [
    "### Verificando Itens de uma Lista"
   ]
  },
  {
   "cell_type": "code",
   "execution_count": 8,
   "id": "dbf2bb4c",
   "metadata": {},
   "outputs": [
    {
     "name": "stdout",
     "output_type": "stream",
     "text": [
      "Informe o item a ser procurado: peixe\n"
     ]
    },
    {
     "data": {
      "text/plain": [
       "False"
      ]
     },
     "execution_count": 8,
     "metadata": {},
     "output_type": "execute_result"
    }
   ],
   "source": [
    "item = input('Informe o item a ser procurado: ')\n",
    "item in animais"
   ]
  },
  {
   "cell_type": "markdown",
   "id": "f52e3d9b",
   "metadata": {},
   "source": [
    "### Ordenando uma Lista\n",
    ".sort()"
   ]
  },
  {
   "cell_type": "code",
   "execution_count": 11,
   "id": "41f07e63",
   "metadata": {},
   "outputs": [
    {
     "name": "stdout",
     "output_type": "stream",
     "text": [
      "[-10, 9, 8, 7, 6, -5, 4, 3, 2, -1]\n",
      "[-10, -5, -1, 2, 3, 4, 6, 7, 8, 9]\n"
     ]
    }
   ],
   "source": [
    "lista = [-10, 9, 8, 7, 6, -5, 4, 3, 2, -1]\n",
    "print(lista)\n",
    "lista.sort()\n",
    "print(lista)"
   ]
  },
  {
   "cell_type": "markdown",
   "id": "c4a53c96",
   "metadata": {},
   "source": [
    "## Tuplas\n",
    "São imutaveis.\n",
    "Normalmente usadas para armazenar sequências de códigos que não serão modificadas.\n",
    "Dar mais segurança ao desenvolvedor e maior proteção ao código."
   ]
  },
  {
   "cell_type": "code",
   "execution_count": 13,
   "id": "ebfb4006",
   "metadata": {},
   "outputs": [
    {
     "name": "stdout",
     "output_type": "stream",
     "text": [
      "('gato', 1, [3, 4], 2.4) <class 'tuple'>\n"
     ]
    }
   ],
   "source": [
    "# criando uma tupla\n",
    "tupla_1 = ('gato', 1, [3, 4], 2.4)\n",
    "print(tupla_1, type(tupla_1))"
   ]
  },
  {
   "cell_type": "code",
   "execution_count": 14,
   "id": "7828c9b4",
   "metadata": {},
   "outputs": [
    {
     "data": {
      "text/plain": [
       "'gato'"
      ]
     },
     "execution_count": 14,
     "metadata": {},
     "output_type": "execute_result"
    }
   ],
   "source": [
    "# acessando dados de uma tupla\n",
    "tupla_1[0]"
   ]
  },
  {
   "cell_type": "code",
   "execution_count": 15,
   "id": "8c7ee153",
   "metadata": {},
   "outputs": [
    {
     "ename": "TypeError",
     "evalue": "'tuple' object does not support item assignment",
     "output_type": "error",
     "traceback": [
      "\u001b[1;31m---------------------------------------------------------------------------\u001b[0m",
      "\u001b[1;31mTypeError\u001b[0m                                 Traceback (most recent call last)",
      "Cell \u001b[1;32mIn[15], line 2\u001b[0m\n\u001b[0;32m      1\u001b[0m \u001b[38;5;66;03m# exemplo de imutabilidade\u001b[39;00m\n\u001b[1;32m----> 2\u001b[0m tupla_1[\u001b[38;5;241m0\u001b[39m] \u001b[38;5;241m=\u001b[39m \u001b[38;5;124m'\u001b[39m\u001b[38;5;124mpeixe\u001b[39m\u001b[38;5;124m'\u001b[39m\n",
      "\u001b[1;31mTypeError\u001b[0m: 'tuple' object does not support item assignment"
     ]
    }
   ],
   "source": [
    "# exemplo de imutabilidade\n",
    "tupla_1[0] = 'peixe'"
   ]
  },
  {
   "cell_type": "markdown",
   "id": "8dd74479",
   "metadata": {},
   "source": [
    "## Dicionários\n",
    "\n",
    "<chave, valor>, diferente da lista onde os itens podem ser acessados por meio da posição ou índice. No dicionário as informações são acessadas por meio da chave."
   ]
  },
  {
   "cell_type": "code",
   "execution_count": 1,
   "id": "22da3db0",
   "metadata": {},
   "outputs": [
    {
     "name": "stdout",
     "output_type": "stream",
     "text": [
      "{'nome': 'Felipe R. Barbosa'} <class 'dict'>\n"
     ]
    }
   ],
   "source": [
    "pessoa = {}\n",
    "pessoa['nome'] = 'Felipe R. Barbosa'\n",
    "print(pessoa, type(pessoa))"
   ]
  },
  {
   "cell_type": "markdown",
   "id": "ce201f94",
   "metadata": {},
   "source": [
    "### Atualizando Dicionário\n",
    "Podemos atualizar utilizando o método .update()"
   ]
  },
  {
   "cell_type": "code",
   "execution_count": 2,
   "id": "51f73bc2",
   "metadata": {},
   "outputs": [
    {
     "data": {
      "text/plain": [
       "{'nome': 'Felipe R. Barbosa', 'medidas': [1.6, 60], 'sexo': 'Masculino'}"
      ]
     },
     "execution_count": 2,
     "metadata": {},
     "output_type": "execute_result"
    }
   ],
   "source": [
    "# Atualizando dict\n",
    "pessoa.update({\n",
    "    'medidas': [1.60, 60],\n",
    "    'sexo'   : 'Masculino'\n",
    "})\n",
    "pessoa"
   ]
  },
  {
   "cell_type": "markdown",
   "id": "4d4695ae",
   "metadata": {},
   "source": [
    "### Acessando Valores de um Dicionário"
   ]
  },
  {
   "cell_type": "code",
   "execution_count": 3,
   "id": "cec82b35",
   "metadata": {},
   "outputs": [
    {
     "data": {
      "text/plain": [
       "'Felipe R. Barbosa'"
      ]
     },
     "execution_count": 3,
     "metadata": {},
     "output_type": "execute_result"
    }
   ],
   "source": [
    "pessoa['nome']"
   ]
  },
  {
   "cell_type": "code",
   "execution_count": 4,
   "id": "cae25f0e",
   "metadata": {},
   "outputs": [
    {
     "data": {
      "text/plain": [
       "[1.6, 60]"
      ]
     },
     "execution_count": 4,
     "metadata": {},
     "output_type": "execute_result"
    }
   ],
   "source": [
    "pessoa['medidas']"
   ]
  },
  {
   "cell_type": "code",
   "execution_count": 5,
   "id": "796b329b",
   "metadata": {},
   "outputs": [
    {
     "data": {
      "text/plain": [
       "'Masculino'"
      ]
     },
     "execution_count": 5,
     "metadata": {},
     "output_type": "execute_result"
    }
   ],
   "source": [
    "pessoa['sexo']"
   ]
  },
  {
   "cell_type": "markdown",
   "id": "6351b3f5",
   "metadata": {},
   "source": [
    "Caso eu tente acessar uma chave que não exista, acontecerá um erro."
   ]
  },
  {
   "cell_type": "code",
   "execution_count": 6,
   "id": "218aa678",
   "metadata": {},
   "outputs": [
    {
     "ename": "KeyError",
     "evalue": "'idade'",
     "output_type": "error",
     "traceback": [
      "\u001b[1;31m---------------------------------------------------------------------------\u001b[0m",
      "\u001b[1;31mKeyError\u001b[0m                                  Traceback (most recent call last)",
      "Cell \u001b[1;32mIn[6], line 1\u001b[0m\n\u001b[1;32m----> 1\u001b[0m \u001b[43mpessoa\u001b[49m\u001b[43m[\u001b[49m\u001b[38;5;124;43m'\u001b[39;49m\u001b[38;5;124;43midade\u001b[39;49m\u001b[38;5;124;43m'\u001b[39;49m\u001b[43m]\u001b[49m\n",
      "\u001b[1;31mKeyError\u001b[0m: 'idade'"
     ]
    }
   ],
   "source": [
    "pessoa['idade']"
   ]
  },
  {
   "cell_type": "markdown",
   "id": "f7b0afc6",
   "metadata": {},
   "source": [
    "Para evitar este tipo de comportamento acessamos os itens do dicionário utilizando o método .get(), dessa forma caso o item não exista, nenhum item será retornado."
   ]
  },
  {
   "cell_type": "code",
   "execution_count": 8,
   "id": "38d8867e",
   "metadata": {},
   "outputs": [
    {
     "name": "stdout",
     "output_type": "stream",
     "text": [
      "Felipe R. Barbosa\n",
      "None\n"
     ]
    }
   ],
   "source": [
    "print(pessoa.get('nome'))\n",
    "print(pessoa.get('idade'))"
   ]
  },
  {
   "cell_type": "markdown",
   "id": "6356b40a",
   "metadata": {},
   "source": [
    "### Alterando Valores do Dicionário"
   ]
  },
  {
   "cell_type": "code",
   "execution_count": 9,
   "id": "74008e81",
   "metadata": {},
   "outputs": [
    {
     "name": "stdout",
     "output_type": "stream",
     "text": [
      "{'nome': 'Felipe Barbosa', 'medidas': [1.6, 60], 'sexo': 'Masculino'}\n"
     ]
    }
   ],
   "source": [
    "pessoa['nome'] = 'Felipe Barbosa'\n",
    "print(pessoa)"
   ]
  },
  {
   "cell_type": "markdown",
   "id": "e704de42",
   "metadata": {},
   "source": [
    "## Sets\n",
    "Coleção de itens que não permite valores duplicados. Suporta operações matemáticas do tipo, união, intersecção, diferença, etc."
   ]
  },
  {
   "cell_type": "code",
   "execution_count": 10,
   "id": "104bb7bc",
   "metadata": {},
   "outputs": [
    {
     "name": "stdout",
     "output_type": "stream",
     "text": [
      "{'A', 'B'} <class 'set'>\n"
     ]
    }
   ],
   "source": [
    "conjunto = set(['A', 'B'])\n",
    "print(conjunto, type(conjunto))"
   ]
  },
  {
   "cell_type": "markdown",
   "id": "c59f7844",
   "metadata": {},
   "source": [
    "### Adicionando Itens em um Conjunto\n",
    ".add()"
   ]
  },
  {
   "cell_type": "code",
   "execution_count": 12,
   "id": "741b679e",
   "metadata": {},
   "outputs": [
    {
     "name": "stdout",
     "output_type": "stream",
     "text": [
      "{'C', 'A', 'B'}\n"
     ]
    }
   ],
   "source": [
    "conjunto.add('C')\n",
    "print(conjunto)"
   ]
  },
  {
   "cell_type": "markdown",
   "id": "b11e175d",
   "metadata": {},
   "source": [
    "Mesmo adicionando o mesmo valor várias vezes, apenas um valor será inserido."
   ]
  },
  {
   "cell_type": "code",
   "execution_count": 13,
   "id": "2fc40267",
   "metadata": {},
   "outputs": [
    {
     "name": "stdout",
     "output_type": "stream",
     "text": [
      "{'C', 'A', 'B'}\n"
     ]
    }
   ],
   "source": [
    "conjunto.add('C')\n",
    "conjunto.add('C')\n",
    "conjunto.add('C')\n",
    "print(conjunto)"
   ]
  },
  {
   "cell_type": "markdown",
   "id": "38dcd737",
   "metadata": {},
   "source": [
    "### Removendo Itens do Conjunto\n",
    ".remove()"
   ]
  },
  {
   "cell_type": "code",
   "execution_count": 14,
   "id": "d1d734db",
   "metadata": {},
   "outputs": [
    {
     "name": "stdout",
     "output_type": "stream",
     "text": [
      "{'C', 'B'}\n"
     ]
    }
   ],
   "source": [
    "conjunto.remove('A')\n",
    "print(conjunto)"
   ]
  },
  {
   "cell_type": "markdown",
   "id": "53fea6c7",
   "metadata": {},
   "source": [
    "## Operadores Aritméticos"
   ]
  },
  {
   "cell_type": "code",
   "execution_count": 1,
   "id": "9e6c4d10-c1ad-4abb-8829-4ad9f89a447b",
   "metadata": {},
   "outputs": [],
   "source": [
    "a = 5\n",
    "b = 10"
   ]
  },
  {
   "cell_type": "code",
   "execution_count": 2,
   "id": "b6319880",
   "metadata": {},
   "outputs": [
    {
     "name": "stdout",
     "output_type": "stream",
     "text": [
      "Soma: 15\n",
      "Subtração: -5\n",
      "Multiplicação: 50\n",
      "Divisão: 0.5\n",
      "Exponenciação: 9765625\n"
     ]
    }
   ],
   "source": [
    "print(f'Soma: {a + b}')\n",
    "print(f'Subtração: {a - b}')\n",
    "print(f'Multiplicação: {a * b}')\n",
    "print(f'Divisão: {a / b}')\n",
    "print(f'Exponenciação: {a ** b}')"
   ]
  },
  {
   "cell_type": "markdown",
   "id": "ff6ce66b-a7ec-4433-9b5b-85acaa33cc88",
   "metadata": {},
   "source": [
    "## Operadores Relacionais"
   ]
  },
  {
   "cell_type": "code",
   "execution_count": 4,
   "id": "2337157e-6414-4621-b475-7ba16831ce90",
   "metadata": {},
   "outputs": [
    {
     "name": "stdout",
     "output_type": "stream",
     "text": [
      "Maior: False\n",
      "Menor: True\n",
      "Igual: False\n",
      "Diferente: True\n"
     ]
    }
   ],
   "source": [
    "print(f'Maior: {a > b}')\n",
    "print(f'Menor: {a < b}')\n",
    "print(f'Igual: {a == b}')\n",
    "print(f'Diferente: {a != b}')"
   ]
  },
  {
   "cell_type": "markdown",
   "id": "9b172be7-414d-496d-b5a0-f792ae2bb12e",
   "metadata": {},
   "source": [
    "## Operadores Lógicos"
   ]
  },
  {
   "cell_type": "code",
   "execution_count": 6,
   "id": "6f96bc9a-2d4a-4deb-977c-daf1099e0248",
   "metadata": {},
   "outputs": [],
   "source": [
    "a = 1\n",
    "b = 0"
   ]
  },
  {
   "cell_type": "code",
   "execution_count": 7,
   "id": "1b7e789f-8f58-4557-a81f-6746cba5456d",
   "metadata": {},
   "outputs": [
    {
     "name": "stdout",
     "output_type": "stream",
     "text": [
      "And: 0\n",
      "Or: 1\n",
      "Xor: 1\n",
      "Not: True\n"
     ]
    }
   ],
   "source": [
    "print(f'And: {a and b}')\n",
    "print(f'Or: {a or b}')\n",
    "print(f'Xor: {a ^ b}')\n",
    "print(f'Not: {not (a and b)}')"
   ]
  }
 ],
 "metadata": {
  "kernelspec": {
   "display_name": "Python 3 (ipykernel)",
   "language": "python",
   "name": "python3"
  },
  "language_info": {
   "codemirror_mode": {
    "name": "ipython",
    "version": 3
   },
   "file_extension": ".py",
   "mimetype": "text/x-python",
   "name": "python",
   "nbconvert_exporter": "python",
   "pygments_lexer": "ipython3",
   "version": "3.9.13"
  }
 },
 "nbformat": 4,
 "nbformat_minor": 5
}
