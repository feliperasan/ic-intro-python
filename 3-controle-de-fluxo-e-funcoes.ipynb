{
 "cells": [
  {
   "attachments": {},
   "cell_type": "markdown",
   "metadata": {},
   "source": [
    "## 4 Controle de Fluxo"
   ]
  },
  {
   "cell_type": "markdown",
   "metadata": {},
   "source": [
    "## 4.1 Comando if"
   ]
  },
  {
   "cell_type": "code",
   "execution_count": 2,
   "metadata": {},
   "outputs": [],
   "source": [
    "if 'condicao 1':\n",
    "  pass\n",
    "elif 'condicao 2':\n",
    "  pass\n",
    "else:\n",
    "  pass"
   ]
  },
  {
   "cell_type": "code",
   "execution_count": 3,
   "metadata": {},
   "outputs": [
    {
     "name": "stdout",
     "output_type": "stream",
     "text": [
      "A\n"
     ]
    }
   ],
   "source": [
    "nota = int(input('Entre com a nota do aluno: '))\n",
    "\n",
    "if nota >= 90:\n",
    "  if nota == 100:\n",
    "    print('A+')\n",
    "  else:\n",
    "    print('A')\n",
    "\n",
    "elif nota >= 80:\n",
    "  print('B')\n",
    "\n",
    "elif nota >= 70:\n",
    "  print('C')\n",
    "\n",
    "else:\n",
    "  print('D')"
   ]
  },
  {
   "attachments": {},
   "cell_type": "markdown",
   "metadata": {},
   "source": [
    "## 4.2 Comando While\n",
    "É utilizado quando não sabemos ao certo a quantidade de iterações previamente.\n",
    "\n",
    "Ao final da repetição, podemos adicionar um comando else\n",
    "podemos utilizar **break** para sair da repetição caso necessário\n",
    "podemos utilizar **continue** para pular uma iteração no laço"
   ]
  },
  {
   "cell_type": "markdown",
   "metadata": {},
   "source": [
    "### 4.2.1 While"
   ]
  },
  {
   "cell_type": "code",
   "execution_count": 2,
   "metadata": {},
   "outputs": [
    {
     "name": "stdout",
     "output_type": "stream",
     "text": [
      "1\n",
      "2\n",
      "3\n",
      "4\n",
      "5\n",
      "6\n",
      "7\n",
      "8\n",
      "9\n",
      "a repetição terminou!\n"
     ]
    }
   ],
   "source": [
    "i = 0\n",
    "\n",
    "while i < 9:\n",
    "  i = i + 1\n",
    "  print(i)\n",
    "\n",
    "else:\n",
    "  print('a repetição terminou!')"
   ]
  },
  {
   "cell_type": "markdown",
   "metadata": {},
   "source": [
    "### 4.2.2 While com Continue"
   ]
  },
  {
   "cell_type": "code",
   "execution_count": 4,
   "metadata": {},
   "outputs": [
    {
     "name": "stdout",
     "output_type": "stream",
     "text": [
      "1\n",
      "2\n",
      "pulou iteração! código a baixo do continue não é executado\n",
      "4\n",
      "5\n",
      "6\n",
      "7\n",
      "8\n",
      "9\n"
     ]
    }
   ],
   "source": [
    "i = 0\n",
    "while i < 9:\n",
    "  i = i + 1\n",
    "\n",
    "  if i == 3:\n",
    "    print('pulou iteração! código a baixo do continue não é executado')\n",
    "    continue\n",
    "\n",
    "  print(i)"
   ]
  },
  {
   "cell_type": "markdown",
   "metadata": {},
   "source": [
    "### 4.2.3 While com Break"
   ]
  },
  {
   "cell_type": "code",
   "execution_count": 5,
   "metadata": {},
   "outputs": [
    {
     "name": "stdout",
     "output_type": "stream",
     "text": [
      "1\n",
      "2\n",
      "3\n",
      "termina a repetição!\n"
     ]
    }
   ],
   "source": [
    "i = 0\n",
    "while i < 9:\n",
    "  i = i + 1\n",
    "\n",
    "  if i == 4:\n",
    "    print('termina a repetição!')\n",
    "    break\n",
    "\n",
    "  print(i)"
   ]
  },
  {
   "attachments": {},
   "cell_type": "markdown",
   "metadata": {},
   "source": [
    "## 4.3 Comando For"
   ]
  },
  {
   "cell_type": "code",
   "execution_count": 6,
   "metadata": {},
   "outputs": [],
   "source": [
    "for variavel in 'sequencia':\n",
    "    pass"
   ]
  },
  {
   "cell_type": "code",
   "execution_count": 7,
   "metadata": {},
   "outputs": [
    {
     "name": "stdout",
     "output_type": "stream",
     "text": [
      "gato\n",
      "cachorro\n",
      "peixe\n"
     ]
    }
   ],
   "source": [
    "animais = ['gato', 'cachorro', 'peixe']\n",
    "for i in animais:\n",
    "    print(i)"
   ]
  },
  {
   "cell_type": "markdown",
   "metadata": {},
   "source": [
    "### Laços Aninhados"
   ]
  },
  {
   "cell_type": "code",
   "execution_count": 8,
   "metadata": {},
   "outputs": [
    {
     "name": "stdout",
     "output_type": "stream",
     "text": [
      "1*1 = 1 \n",
      "2*1 = 2 2*2 = 4 \n",
      "3*1 = 3 3*2 = 6 3*3 = 9 \n",
      "4*1 = 4 4*2 = 8 4*3 = 12 4*4 = 16 \n",
      "5*1 = 5 5*2 = 10 5*3 = 15 5*4 = 20 5*5 = 25 \n",
      "6*1 = 6 6*2 = 12 6*3 = 18 6*4 = 24 6*5 = 30 6*6 = 36 \n",
      "7*1 = 7 7*2 = 14 7*3 = 21 7*4 = 28 7*5 = 35 7*6 = 42 7*7 = 49 \n",
      "8*1 = 8 8*2 = 16 8*3 = 24 8*4 = 32 8*5 = 40 8*6 = 48 8*7 = 56 8*8 = 64 \n",
      "9*1 = 9 9*2 = 18 9*3 = 27 9*4 = 36 9*5 = 45 9*6 = 54 9*7 = 63 9*8 = 72 9*9 = 81 \n"
     ]
    }
   ],
   "source": [
    "for i in range(1, 10):\n",
    "  for j in range(1, i+1):\n",
    "    print(f'{i}*{j} = {i * j}', end=\" \")\n",
    "  print()"
   ]
  },
  {
   "cell_type": "markdown",
   "metadata": {},
   "source": [
    "## 5 Funções"
   ]
  },
  {
   "cell_type": "code",
   "execution_count": 1,
   "metadata": {},
   "outputs": [],
   "source": [
    "def minha_funcao():\n",
    "  print('Hello')\n",
    "  print('World')"
   ]
  },
  {
   "cell_type": "code",
   "execution_count": 2,
   "metadata": {},
   "outputs": [
    {
     "name": "stdout",
     "output_type": "stream",
     "text": [
      "Hello\n",
      "World\n"
     ]
    }
   ],
   "source": [
    "minha_funcao()"
   ]
  },
  {
   "attachments": {},
   "cell_type": "markdown",
   "metadata": {},
   "source": [
    "## Argumentos\n",
    "\n",
    "Formas de passar argumentos:\n",
    "- por posição\n",
    "- por padrão\n",
    "- por atributo\n",
    "- de forma arbitrária"
   ]
  },
  {
   "cell_type": "code",
   "execution_count": 3,
   "metadata": {},
   "outputs": [],
   "source": [
    "def funcao(a = 128, b = 2, *args, **kwargs):\n",
    "  print(f'a: {a}')\n",
    "  print(f'b: {b}')\n",
    "  print(f'args: {args}')\n",
    "  \n",
    "  for chave, valor in kwargs.items():\n",
    "    print(f'{chave} é {valor}')\n",
    "  print()"
   ]
  },
  {
   "attachments": {},
   "cell_type": "markdown",
   "metadata": {},
   "source": [
    "### 5.1.1 Passagem de argumento por padrão\n",
    "Quando valores padrões são definidos esses valores são usados caso nenhum argumento seja passado para a função"
   ]
  },
  {
   "cell_type": "code",
   "execution_count": 4,
   "metadata": {},
   "outputs": [
    {
     "name": "stdout",
     "output_type": "stream",
     "text": [
      "a: 128\n",
      "b: 2\n",
      "args: ()\n",
      "\n"
     ]
    }
   ],
   "source": [
    "funcao()"
   ]
  },
  {
   "attachments": {},
   "cell_type": "markdown",
   "metadata": {},
   "source": [
    "### 5.1.2 Passagem de argumento por Posição\n",
    "Quando a passagem de argumento por posição é usado, a variáve na posição referenciada é substituída na função."
   ]
  },
  {
   "cell_type": "code",
   "execution_count": 7,
   "metadata": {},
   "outputs": [
    {
     "name": "stdout",
     "output_type": "stream",
     "text": [
      "a: 0\n",
      "b: 4\n",
      "args: ()\n",
      "\n"
     ]
    }
   ],
   "source": [
    "funcao(0, 4)"
   ]
  },
  {
   "cell_type": "markdown",
   "metadata": {},
   "source": [
    "### 5.1.3 Passagem de argumento por atríbuto\n",
    "Podemos especificar expicitamente o valor de cada atributo, assim não importa a posição que os argumentos são passados."
   ]
  },
  {
   "cell_type": "code",
   "execution_count": 8,
   "metadata": {},
   "outputs": [
    {
     "name": "stdout",
     "output_type": "stream",
     "text": [
      "a: 0\n",
      "b: 4\n",
      "args: ()\n",
      "\n"
     ]
    }
   ],
   "source": [
    "funcao(b = 4, a = 0)"
   ]
  },
  {
   "cell_type": "markdown",
   "metadata": {},
   "source": [
    "### 5.1.4 Passagem de argumentos arbitrários\n",
    "muitas vezes não sabemos a quantidade de parâmetros que uma função pode receber. Assim podemos definir uma quantidade arbitrária utilizando um atributo definido como *args. Assim os argumentos excedentes serão atribuidos a variável args."
   ]
  },
  {
   "cell_type": "code",
   "execution_count": 10,
   "metadata": {},
   "outputs": [
    {
     "name": "stdout",
     "output_type": "stream",
     "text": [
      "a: 1\n",
      "b: 2\n",
      "args: (3, 4, 5, 6, 7, 8, 9)\n",
      "\n"
     ]
    }
   ],
   "source": [
    "funcao(1, 2, 3, 4, 5, 6, 7, 8, 9)"
   ]
  },
  {
   "attachments": {},
   "cell_type": "markdown",
   "metadata": {},
   "source": [
    "### 5.1.5 Passagem de atributos arbitrários\n",
    "da mesma forma, podemos passar novos atributos de forma arbitrária para a função que serão recebidos pelo argumento **kwargs"
   ]
  },
  {
   "cell_type": "code",
   "execution_count": 11,
   "metadata": {},
   "outputs": [
    {
     "name": "stdout",
     "output_type": "stream",
     "text": [
      "a: 128\n",
      "b: 2\n",
      "args: ()\n",
      "gato é animal\n",
      "cachorro é animal\n",
      "peixe é animal\n",
      "\n"
     ]
    }
   ],
   "source": [
    "funcao(gato='animal', cachorro='animal', peixe='animal')"
   ]
  },
  {
   "cell_type": "markdown",
   "metadata": {},
   "source": [
    "## 5.2 Retorno da Função"
   ]
  },
  {
   "cell_type": "code",
   "execution_count": 14,
   "metadata": {},
   "outputs": [],
   "source": [
    "def retorna_um_valor(a, b):\n",
    "  return a + b"
   ]
  },
  {
   "cell_type": "code",
   "execution_count": 15,
   "metadata": {},
   "outputs": [
    {
     "name": "stdout",
     "output_type": "stream",
     "text": [
      "a: 30\n"
     ]
    }
   ],
   "source": [
    "a = retorna_um_valor(10, 20)\n",
    "print(f'a: {a}')"
   ]
  },
  {
   "cell_type": "code",
   "execution_count": 16,
   "metadata": {},
   "outputs": [],
   "source": [
    "def retorna_dois_valores(a, b):\n",
    "  return a*2, b*2"
   ]
  },
  {
   "cell_type": "code",
   "execution_count": 17,
   "metadata": {},
   "outputs": [
    {
     "name": "stdout",
     "output_type": "stream",
     "text": [
      "a: 20\n",
      "b: 40\n"
     ]
    }
   ],
   "source": [
    "a, b = retorna_dois_valores(10, 20)\n",
    "print(f'a: {a}')\n",
    "print(f'b: {b}')"
   ]
  },
  {
   "attachments": {},
   "cell_type": "markdown",
   "metadata": {},
   "source": [
    "## Função Lambda\n",
    "Em python, usamos a palavra-chave lambda para declarar uma função anônima, e é por isso que nos referimos a elas como \"funções lambda\". Uma função anônima se refere a uma função declarada sem nome."
   ]
  },
  {
   "cell_type": "code",
   "execution_count": 18,
   "metadata": {},
   "outputs": [
    {
     "data": {
      "text/plain": [
       "200"
      ]
     },
     "execution_count": 18,
     "metadata": {},
     "output_type": "execute_result"
    }
   ],
   "source": [
    "multiplicar = lambda x,y: x*y\n",
    "multiplicar(10, 20)"
   ]
  },
  {
   "attachments": {},
   "cell_type": "markdown",
   "metadata": {},
   "source": [
    "## Função Map\n",
    "A função map() executa uma função especificada para cada item em um iterável. O item é enviado para a função como parâmetro."
   ]
  },
  {
   "cell_type": "code",
   "execution_count": 19,
   "metadata": {},
   "outputs": [
    {
     "name": "stdout",
     "output_type": "stream",
     "text": [
      "[6, 4, 3]\n"
     ]
    }
   ],
   "source": [
    "conta_letras = lambda x: len(x)\n",
    "contagem     = map(conta_letras, ['banana', 'maça', 'uva'])\n",
    "print(list(contagem))"
   ]
  }
 ],
 "metadata": {
  "kernelspec": {
   "display_name": "Python 3",
   "language": "python",
   "name": "python3"
  },
  "language_info": {
   "codemirror_mode": {
    "name": "ipython",
    "version": 3
   },
   "file_extension": ".py",
   "mimetype": "text/x-python",
   "name": "python",
   "nbconvert_exporter": "python",
   "pygments_lexer": "ipython3",
   "version": "3.11.2"
  },
  "orig_nbformat": 4
 },
 "nbformat": 4,
 "nbformat_minor": 2
}
